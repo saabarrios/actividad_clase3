{
  "metadata": {
    "kernelspec": {
      "name": "python",
      "display_name": "Python (Pyodide)",
      "language": "python"
    },
    "language_info": {
      "codemirror_mode": {
        "name": "python",
        "version": 3
      },
      "file_extension": ".py",
      "mimetype": "text/x-python",
      "name": "python",
      "nbconvert_exporter": "python",
      "pygments_lexer": "ipython3",
      "version": "3.8"
    }
  },
  "nbformat_minor": 4,
  "nbformat": 4,
  "cells": [
    {
      "cell_type": "code",
      "source": "actividades_clase3 ",
      "metadata": {
        "trusted": true
      },
      "outputs": [],
      "execution_count": null
    },
    {
      "cell_type": "code",
      "source": "ciudades = {\"buenos aires\" , \"la plata\" , \"rio grande\" , \"cordoba\" }\nempleado = {\"nombre\": \"sabrina\" , \"cargo\": \"cajera\", \"sueldo\": 500.000}\nempleado2 = {\"nombre\": \"leonardo\", \"caego\": \"supervisor\" , \"sueldo\": 1.000.000}\n",
      "metadata": {
        "trusted": true
      },
      "outputs": [],
      "execution_count": null
    },
    {
      "cell_type": "code",
      "source": "numeros = [10, 20, 30, 40]",
      "metadata": {
        "trusted": true
      },
      "outputs": [],
      "execution_count": null
    },
    {
      "cell_type": "code",
      "source": "numeros.append(50)",
      "metadata": {
        "trusted": true
      },
      "outputs": [],
      "execution_count": null
    },
    {
      "cell_type": "code",
      "source": "numeros.extend([60, 70, 80])",
      "metadata": {
        "trusted": true
      },
      "outputs": [],
      "execution_count": null
    },
    {
      "cell_type": "code",
      "source": "numeros.insert(2, 25)  # Inserta 25 en la posición 2 (índice 2)",
      "metadata": {
        "trusted": true
      },
      "outputs": [],
      "execution_count": null
    },
    {
      "cell_type": "code",
      "source": "numeros.sort()",
      "metadata": {
        "trusted": true
      },
      "outputs": [],
      "execution_count": null
    },
    {
      "cell_type": "code",
      "source": "productos = {\n    \"producto1\": {\"nombre\": \"lapices\", \"precio\": 25, \"stock\": 100},\n    \"producto2\": {\"nombre\": \"cuadernos\", \"precio\": 80, \"stock\": 50}\n}",
      "metadata": {
        "trusted": true
      },
      "outputs": [],
      "execution_count": null
    },
    {
      "cell_type": "code",
      "source": "nombres_productos = list(productos.keys())",
      "metadata": {
        "trusted": true
      },
      "outputs": [],
      "execution_count": null
    },
    {
      "cell_type": "code",
      "source": "precios_cantidades = list(productos.values())",
      "metadata": {
        "trusted": true
      },
      "outputs": [],
      "execution_count": null
    },
    {
      "cell_type": "code",
      "source": "pares_clave_valor = list(productos.items())",
      "metadata": {
        "trusted": true
      },
      "outputs": [],
      "execution_count": null
    },
    {
      "cell_type": "code",
      "source": "precio_cuadernos = productos.get(\"producto1\", {}).get(\"precio\", 0)",
      "metadata": {
        "trusted": true
      },
      "outputs": [],
      "execution_count": null
    },
    {
      "cell_type": "code",
      "source": "# Lista de diccionarios de libros\nlibros = [\n    {\"título\": \"Cien años de soledad\", \"autor\": \"Gabriel García Márquez\", \"año\": 1967},\n    {\"título\": \"1984\", \"autor\": \"George Orwell\", \"año\": 1949},",
      "metadata": {
        "trusted": true
      },
      "outputs": [],
      "execution_count": null
    },
    {
      "cell_type": "code",
      "source": "# Acceso a información de un libro específico\nprimer_libro = libros[0]\nprint(f\"Título: {primer_libro['título']}, Autor: {primer_libro['autor']}, Año: {primer_libro['año']}\")",
      "metadata": {
        "trusted": true
      },
      "outputs": [],
      "execution_count": null
    },
    {
      "cell_type": "code",
      "source": "# Diccionario de estudiantes y sus materias\nestudiantes_materias = {\n    \"sabrina\": [\"Matemáticas\", \"Historia\"],\n    \"isabel\": [\"Física\", \"Literatura\"],\n    \"romina\": [\"Química\", \"Biología\"]\n}\n\n# Acceso a las materias de un estudiante específico\nmaterias_sabrina = estudiantes_materias.get(\"sabrina\", [])\nprint(f\"Materias de sabrina: {', '.join(materias_sabrina)}\")",
      "metadata": {
        "trusted": true
      },
      "outputs": [],
      "execution_count": null
    },
    {
      "cell_type": "code",
      "source": "# Modificar una materia de sabrina\nestudiantes_materias[\"sabrina\"][0] = \"Biología\"\n\n# Verificar el cambio\nprint(f\"Nuevas materias de sabrina: {', '.join(estudiantes_materias['sabrina'])}\")",
      "metadata": {
        "trusted": true
      },
      "outputs": [],
      "execution_count": null
    },
    {
      "cell_type": "code",
      "source": "",
      "metadata": {
        "trusted": true
      },
      "outputs": [],
      "execution_count": null
    }
  ]
}